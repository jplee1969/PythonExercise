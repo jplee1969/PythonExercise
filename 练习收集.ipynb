{
 "cells": [
  {
   "cell_type": "markdown",
   "metadata": {},
   "source": [
    "# Python编程练习 "
   ]
  },
  {
   "cell_type": "markdown",
   "metadata": {},
   "source": [
    "如果列出10以内自然数中3或5的倍数，则包括3,5,6,9。那么这些数字的和为23。要求计算得出任意正整数n以内中3或5的倍数的自然数之和。"
   ]
  },
  {
   "cell_type": "code",
   "execution_count": 1,
   "metadata": {},
   "outputs": [
    {
     "name": "stdout",
     "output_type": "stream",
     "text": [
      "23\n"
     ]
    }
   ],
   "source": [
    "#n = int(input())\n",
    "n = 10\n",
    "sum = 0;\n",
    "for i in range(1,n):\n",
    "    if i % 3 == 0 or i % 5 == 0:\n",
    "        sum += i\n",
    "print(sum)"
   ]
  },
  {
   "cell_type": "markdown",
   "metadata": {},
   "source": [
    "10以内的素数2,3,5,7的和为17。要求计算得出任意正整数n以内的所有素数的和。"
   ]
  },
  {
   "cell_type": "code",
   "execution_count": 2,
   "metadata": {},
   "outputs": [
    {
     "name": "stdout",
     "output_type": "stream",
     "text": [
      "17\n"
     ]
    }
   ],
   "source": [
    "import math\n",
    "def isprime(x):\n",
    "    if x < 2:\n",
    "        return False\n",
    "    for i in range(2,int(math.sqrt(x))+1):\n",
    "        if x % i == 0:\n",
    "            return False\n",
    "    return True\n",
    "\n",
    "#n = int(input())\n",
    "n=10\n",
    "sum = 0\n",
    "for i in range(n):\n",
    "    if isprime(i):\n",
    "        sum += i\n",
    "print(sum)"
   ]
  },
  {
   "cell_type": "markdown",
   "metadata": {},
   "source": [
    "根据下列信息计算在1901年1月1日至2000年12月31日间共有多少个星期天落在每月的第一天上？  \n",
    "a)  1900.1.1是星期一  \n",
    "b)  1月，3月，5月，7月，8月，10月和12月是31天  \n",
    "c)  4月，6月，9月和11月是30天  \n",
    "d)  2月是28天，在闰年是29天  \n",
    "e)  公元年数能被4整除且又不能被100整除是闰年  \n",
    "f)  能直接被400整除也是闰年  "
   ]
  },
  {
   "cell_type": "code",
   "execution_count": 3,
   "metadata": {},
   "outputs": [
    {
     "name": "stdout",
     "output_type": "stream",
     "text": [
      "171\n"
     ]
    }
   ],
   "source": [
    "mondays=0\n",
    "def getmonthdays(year):\n",
    "    isleapyear=year%400==0 or (year%4==0 and (not year%100==0))\n",
    "    if isleapyear:\n",
    "        return [31,29,31,30,31,30,31,31,30,31,30,31]\n",
    "    return [31,28,31,30,31,30,31,31,30,31,30,31]\n",
    "\n",
    "pastdays=1  \n",
    "monthdays=getmonthdays(1900)\n",
    "for month in range (0,12):\n",
    "    pastdays+=monthdays[month]\n",
    "\n",
    "for year in range(1901,2001):\n",
    "    monthdays=getmonthdays(year)\n",
    "    for month in range(0,12):\n",
    "        if pastdays%7==0:\n",
    "            mondays+=1\n",
    "        pastdays+=monthdays[month]\n",
    "print(mondays)"
   ]
  },
  {
   "cell_type": "markdown",
   "metadata": {},
   "source": [
    "数字197可以被称为循环素数，因为197的三个数位循环移位后的数字：197,971,719均为素数。100以内这样的数字包括13个，2,3,5,7,11,13,17,31,37,71,73,79,97。要求任意正整数n以内一共有多少个这样的循环素数。"
   ]
  },
  {
   "cell_type": "code",
   "execution_count": 7,
   "metadata": {},
   "outputs": [
    {
     "name": "stdout",
     "output_type": "stream",
     "text": [
      "1000\n",
      "25\n",
      "[2, 3, 5, 7, 11, 13, 17, 19, 23, 29, 31, 37, 41, 43, 47, 53, 59, 61, 67, 71, 73, 79, 83, 89, 97, 101, 103, 107, 109, 113, 127, 131, 137, 139, 149, 151, 157, 163, 167, 173, 179, 181, 191, 193, 197, 199, 211, 223, 227, 229, 233, 239, 241, 251, 257, 263, 269, 271, 277, 281, 283, 293, 307, 311, 313, 317, 331, 337, 347, 349, 353, 359, 367, 373, 379, 383, 389, 397, 401, 409, 419, 421, 431, 433, 439, 443, 449, 457, 461, 463, 467, 479, 487, 491, 499, 503, 509, 521, 523, 541, 547, 557, 563, 569, 571, 577, 587, 593, 599, 601, 607, 613, 617, 619, 631, 641, 643, 647, 653, 659, 661, 673, 677, 683, 691, 701, 709, 719, 727, 733, 739, 743, 751, 757, 761, 769, 773, 787, 797, 809, 811, 821, 823, 827, 829, 839, 853, 857, 859, 863, 877, 881, 883, 887, 907, 911, 919, 929, 937, 941, 947, 953, 967, 971, 977, 983, 991, 997]\n",
      "[2, 3, 5, 7, 11, 13, 17, 31, 37, 71, 73, 79, 97, 113, 131, 197, 199, 311, 337, 373, 719, 733, 919, 971, 991]\n"
     ]
    }
   ],
   "source": [
    "import math\n",
    "def isprime(x):\n",
    "    if x <= 1:\n",
    "        return False\n",
    "    for i in range(2,int(math.sqrt(x))+1):\n",
    "        if x % i == 0:\n",
    "            return False\n",
    "    return True\n",
    "\n",
    "def get_num_of_int(x):\n",
    "    num = 1\n",
    "    tmp = x % 10\n",
    "    while tmp != x:\n",
    "        x = x // 10\n",
    "        num += 1\n",
    "        tmp = x % 10\n",
    "    return num\n",
    "\n",
    "def get_move_circle(x):\n",
    "    n = get_num_of_int(x)\n",
    "    l = []\n",
    "    for i in range(n):\n",
    "        y = (x % 10) * (10 ** (n-1)) + x // 10\n",
    "        l.append(y)\n",
    "        x = y\n",
    "    return l\n",
    "\n",
    "prime_dic = {}\n",
    "prime_list = []\n",
    "n = int(input())\n",
    "for i in range(2, n + 1):\n",
    "    prime_dic[i] = 1\n",
    "for i in range(2, int(n ** .5) + 1):\n",
    "    for j in range(i * i, n + 1, i):\n",
    "        if prime_dic[i] == 1:\n",
    "            prime_dic[j] = 0\n",
    "for k,v in prime_dic.items():\n",
    "    if v == 1:\n",
    "        prime_list.append(k)\n",
    "\n",
    "lst=[]\n",
    "for p in prime_list:\n",
    "    flag = True\n",
    "    l = get_move_circle(p)\n",
    "    for j in l:\n",
    "        if not isprime(j):\n",
    "            flag = False\n",
    "            break\n",
    "    if flag:\n",
    "        lst.append(j)\n",
    "print(len(lst))\n",
    "print(prime_list)\n",
    "print(lst)"
   ]
  },
  {
   "cell_type": "code",
   "execution_count": null,
   "metadata": {
    "collapsed": true
   },
   "outputs": [],
   "source": []
  }
 ],
 "metadata": {
  "kernelspec": {
   "display_name": "Python 3",
   "language": "python",
   "name": "python3"
  },
  "language_info": {
   "codemirror_mode": {
    "name": "ipython",
    "version": 3
   },
   "file_extension": ".py",
   "mimetype": "text/x-python",
   "name": "python",
   "nbconvert_exporter": "python",
   "pygments_lexer": "ipython3",
   "version": "3.6.1"
  }
 },
 "nbformat": 4,
 "nbformat_minor": 1
}
