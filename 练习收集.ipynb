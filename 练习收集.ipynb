{
 "cells": [
  {
   "cell_type": "markdown",
   "metadata": {},
   "source": [
    "# Python编程练习 "
   ]
  },
  {
   "cell_type": "markdown",
   "metadata": {},
   "source": [
    "如果列出10以内自然数中3或5的倍数，则包括3,5,6,9。那么这些数字的和为23。要求计算得出任意正整数n以内中3或5的倍数的自然数之和。"
   ]
  },
  {
   "cell_type": "code",
   "execution_count": 1,
   "metadata": {},
   "outputs": [
    {
     "name": "stdout",
     "output_type": "stream",
     "text": [
      "23\n"
     ]
    }
   ],
   "source": [
    "#n = int(input())\n",
    "n = 10\n",
    "sum = 0;\n",
    "for i in range(1,n):\n",
    "    if i % 3 == 0 or i % 5 == 0:\n",
    "        sum += i\n",
    "print(sum)"
   ]
  },
  {
   "cell_type": "markdown",
   "metadata": {},
   "source": [
    "10以内的素数2,3,5,7的和为17。要求计算得出任意正整数n以内的所有素数的和。"
   ]
  },
  {
   "cell_type": "code",
   "execution_count": 2,
   "metadata": {},
   "outputs": [
    {
     "name": "stdout",
     "output_type": "stream",
     "text": [
      "17\n"
     ]
    }
   ],
   "source": [
    "import math\n",
    "def isprime(x):\n",
    "    if x < 2:\n",
    "        return False\n",
    "    for i in range(2,int(math.sqrt(x))+1):\n",
    "        if x % i == 0:\n",
    "            return False\n",
    "    return True\n",
    "\n",
    "#n = int(input())\n",
    "n=10\n",
    "sum = 0\n",
    "for i in range(n):\n",
    "    if isprime(i):\n",
    "        sum += i\n",
    "print(sum)"
   ]
  },
  {
   "cell_type": "markdown",
   "metadata": {},
   "source": [
    "根据下列信息计算在1901年1月1日至2000年12月31日间共有多少个星期天落在每月的第一天上？  \n",
    "a)  1900.1.1是星期一  \n",
    "b)  1月，3月，5月，7月，8月，10月和12月是31天  \n",
    "c)  4月，6月，9月和11月是30天  \n",
    "d)  2月是28天，在闰年是29天  \n",
    "e)  公元年数能被4整除且又不能被100整除是闰年  \n",
    "f)  能直接被400整除也是闰年  "
   ]
  },
  {
   "cell_type": "code",
   "execution_count": 3,
   "metadata": {},
   "outputs": [
    {
     "name": "stdout",
     "output_type": "stream",
     "text": [
      "171\n"
     ]
    }
   ],
   "source": [
    "mondays=0\n",
    "def getmonthdays(year):\n",
    "    isleapyear=year%400==0 or (year%4==0 and (not year%100==0))\n",
    "    if isleapyear:\n",
    "        return [31,29,31,30,31,30,31,31,30,31,30,31]\n",
    "    return [31,28,31,30,31,30,31,31,30,31,30,31]\n",
    "\n",
    "pastdays=1  \n",
    "monthdays=getmonthdays(1900)\n",
    "for month in range (0,12):\n",
    "    pastdays+=monthdays[month]\n",
    "\n",
    "for year in range(1901,2001):\n",
    "    monthdays=getmonthdays(year)\n",
    "    for month in range(0,12):\n",
    "        if pastdays%7==0:\n",
    "            mondays+=1\n",
    "        pastdays+=monthdays[month]\n",
    "print(mondays)"
   ]
  },
  {
   "cell_type": "markdown",
   "metadata": {},
   "source": [
    "数字197可以被称为循环素数，因为197的三个数位循环移位后的数字：197,971,719均为素数。100以内这样的数字包括13个，2,3,5,7,11,13,17,31,37,71,73,79,97。要求任意正整数n以内一共有多少个这样的循环素数。"
   ]
  },
  {
   "cell_type": "code",
   "execution_count": 7,
   "metadata": {},
   "outputs": [
    {
     "name": "stdout",
     "output_type": "stream",
     "text": [
      "1000\n",
      "25\n",
      "[2, 3, 5, 7, 11, 13, 17, 19, 23, 29, 31, 37, 41, 43, 47, 53, 59, 61, 67, 71, 73, 79, 83, 89, 97, 101, 103, 107, 109, 113, 127, 131, 137, 139, 149, 151, 157, 163, 167, 173, 179, 181, 191, 193, 197, 199, 211, 223, 227, 229, 233, 239, 241, 251, 257, 263, 269, 271, 277, 281, 283, 293, 307, 311, 313, 317, 331, 337, 347, 349, 353, 359, 367, 373, 379, 383, 389, 397, 401, 409, 419, 421, 431, 433, 439, 443, 449, 457, 461, 463, 467, 479, 487, 491, 499, 503, 509, 521, 523, 541, 547, 557, 563, 569, 571, 577, 587, 593, 599, 601, 607, 613, 617, 619, 631, 641, 643, 647, 653, 659, 661, 673, 677, 683, 691, 701, 709, 719, 727, 733, 739, 743, 751, 757, 761, 769, 773, 787, 797, 809, 811, 821, 823, 827, 829, 839, 853, 857, 859, 863, 877, 881, 883, 887, 907, 911, 919, 929, 937, 941, 947, 953, 967, 971, 977, 983, 991, 997]\n",
      "[2, 3, 5, 7, 11, 13, 17, 31, 37, 71, 73, 79, 97, 113, 131, 197, 199, 311, 337, 373, 719, 733, 919, 971, 991]\n"
     ]
    }
   ],
   "source": [
    "import math\n",
    "def isprime(x):\n",
    "    if x <= 1:\n",
    "        return False\n",
    "    for i in range(2,int(math.sqrt(x))+1):\n",
    "        if x % i == 0:\n",
    "            return False\n",
    "    return True\n",
    "\n",
    "def get_num_of_int(x):\n",
    "    num = 1\n",
    "    tmp = x % 10\n",
    "    while tmp != x:\n",
    "        x = x // 10\n",
    "        num += 1\n",
    "        tmp = x % 10\n",
    "    return num\n",
    "\n",
    "def get_move_circle(x):\n",
    "    n = get_num_of_int(x)\n",
    "    l = []\n",
    "    for i in range(n):\n",
    "        y = (x % 10) * (10 ** (n-1)) + x // 10\n",
    "        l.append(y)\n",
    "        x = y\n",
    "    return l\n",
    "\n",
    "prime_dic = {}\n",
    "prime_list = []\n",
    "n = int(input())\n",
    "for i in range(2, n + 1):\n",
    "    prime_dic[i] = 1\n",
    "for i in range(2, int(n ** .5) + 1):\n",
    "    for j in range(i * i, n + 1, i):\n",
    "        if prime_dic[i] == 1:\n",
    "            prime_dic[j] = 0\n",
    "for k,v in prime_dic.items():\n",
    "    if v == 1:\n",
    "        prime_list.append(k)\n",
    "\n",
    "lst=[]\n",
    "for p in prime_list:\n",
    "    flag = True\n",
    "    l = get_move_circle(p)\n",
    "    for j in l:\n",
    "        if not isprime(j):\n",
    "            flag = False\n",
    "            break\n",
    "    if flag:\n",
    "        lst.append(j)\n",
    "print(len(lst))\n",
    "print(prime_list)\n",
    "print(lst)"
   ]
  },
  {
   "cell_type": "markdown",
   "metadata": {
    "collapsed": true
   },
   "source": [
    "一个斐波那契数列的前10项为：1, 2, 3, 5, 8, 13, 21, 34, 55, 89，对于一个最大项的值不超过n的斐波那契数列，求值为偶数的项的和。"
   ]
  },
  {
   "cell_type": "code",
   "execution_count": 2,
   "metadata": {},
   "outputs": [
    {
     "name": "stdout",
     "output_type": "stream",
     "text": [
      "100\n",
      "44\n"
     ]
    }
   ],
   "source": [
    "def fib(n):\n",
    "    l = [1,2]\n",
    "    f = l[-1] + l[-2]\n",
    "    while f <= n:\n",
    "        l.append(f)\n",
    "        f = l[-1] + l[-2]\n",
    "    return l\n",
    "\n",
    "n = int(input())\n",
    "lst = fib(n)\n",
    "sum = 0\n",
    "for i in lst:\n",
    "    if i % 2 == 0:\n",
    "        sum += i\n",
    "print(sum)"
   ]
  },
  {
   "cell_type": "markdown",
   "metadata": {},
   "source": [
    "若已知1800年1月1日为星期3，则对于一个给定的年份和月份，输出这个月的最后一天是星期几。"
   ]
  },
  {
   "cell_type": "code",
   "execution_count": 3,
   "metadata": {},
   "outputs": [
    {
     "name": "stdout",
     "output_type": "stream",
     "text": [
      "2033\n",
      "12\n",
      "6\n"
     ]
    }
   ],
   "source": [
    "def is_leap_year(Year):\n",
    "    if Year % 4 == 0 and Year % 100 != 0 or Year % 400 == 0:\n",
    "        return True\n",
    "    else:\n",
    "        return False\n",
    "\n",
    "\n",
    "def year_month_days(Year, Month):\n",
    "    if Month in (1, 3, 5, 7, 8, 10, 12):\n",
    "        return 31\n",
    "    elif Month in (4, 6, 9, 11):\n",
    "        return 30\n",
    "    elif is_leap_year(Year):\n",
    "        return 29\n",
    "    else:\n",
    "        return 28\n",
    "\n",
    "\n",
    "def year_days(Year):\n",
    "    if is_leap_year(Year):\n",
    "        return 366\n",
    "    else:\n",
    "        return 365\n",
    "\n",
    "\n",
    "def weekday_year_month(Year, Month):\n",
    "    Weekday = 2\n",
    "    for year in range(1800, Year):\n",
    "        Weekday = (Weekday + year_days(year)) % 7\n",
    "\n",
    "    for month in range(1, Month + 1):\n",
    "        Weekday = (Weekday + year_month_days(Year, month)) % 7\n",
    "\n",
    "    print(Weekday)\n",
    "\n",
    "\n",
    "Y = int(input())\n",
    "M = int(input())\n",
    "\n",
    "weekday_year_month(Y, M)"
   ]
  },
  {
   "cell_type": "markdown",
   "metadata": {},
   "source": [
    "如在汉诺塔游戏中，我们希望将塔A上的n个盘子，通过塔B移动到塔C，则对于任意输入的n，给出移动的步骤。"
   ]
  },
  {
   "cell_type": "code",
   "execution_count": 4,
   "metadata": {},
   "outputs": [
    {
     "name": "stdout",
     "output_type": "stream",
     "text": [
      "3\n",
      "Move 1 from A to C\n",
      "Move 2 from A to B\n",
      "Move 1 from C to B\n",
      "Move 3 from A to C\n",
      "Move 1 from B to A\n",
      "Move 2 from B to C\n",
      "Move 1 from A to C\n"
     ]
    }
   ],
   "source": [
    "def hanoi(n, A, B, C):\n",
    "    if n == 1:\n",
    "        print('Move', n, 'from', A, 'to', C)\n",
    "    else:\n",
    "        hanoi(n - 1, A, C, B)\n",
    "        print('Move', n, 'from', A, 'to', C)\n",
    "        hanoi(n - 1, B, A, C)\n",
    "\n",
    "\n",
    "num = int(input())\n",
    "hanoi(num, 'A', 'B', 'C')"
   ]
  },
  {
   "cell_type": "markdown",
   "metadata": {
    "collapsed": true
   },
   "source": [
    "二分法求平方根：输入一个数x，用二分法逼近求平方根"
   ]
  },
  {
   "cell_type": "code",
   "execution_count": 4,
   "metadata": {},
   "outputs": [
    {
     "name": "stdout",
     "output_type": "stream",
     "text": [
      "请输入一个正数：2\n",
      "2.0的平方根是1.414215087890625\n"
     ]
    }
   ],
   "source": [
    "x = float(input(\"请输入一个正数：\"))\n",
    "low = 0\n",
    "high = x\n",
    "guess = (high + low) / 2\n",
    "while abs(guess ** 2 - x) > 1e-5:\n",
    "    if guess ** 2 < x:\n",
    "        low = guess\n",
    "    else:\n",
    "        high = guess\n",
    "    guess = (high + low) / 2\n",
    "    \n",
    "print(\"{}的平方根是{}\".format(x,guess))"
   ]
  },
  {
   "cell_type": "markdown",
   "metadata": {
    "collapsed": true
   },
   "source": [
    "“Pig Latin”是一个英语儿童文字改写游戏，整个游戏遵从下述规则：  \n",
    "\n",
    "(1). 元音字母是‘a’、‘e’、‘i’、‘o’、‘u’。字母‘y’在不是第一个字母的情况下，也被视作元音字母。其他字母均为辅音字母。例如，单词“yearly”有三个元音字母（分别为‘e’、‘a’和最后一个‘y’）和三个辅音字母（第一个‘y’、‘r’和‘l’）。  \n",
    "\n",
    "(2). 如果英文单词以元音字母开始，则在单词末尾加入“hay”后得到“Pig Latin”对应单词。例如，“ask”变为“askhay”，“use”变为“usehay”。  \n",
    "\n",
    "(3). 如果英文单词以‘q’字母开始，并且后面有个字母‘u’，将“qu”移动到单词末尾加入“ay”后得到“Pig Latin”对应单词。例如，“quiet”变为“ietquay”，“quay”变为“ayquay”。  \n",
    "\n",
    "(4). 如果英文单词以辅音字母开始，所有连续的辅音字母一起移动到单词末尾加入“ay”后得到“Pig Latin”对应单词。例如，“tomato”变为“omatotay”， “school” 变为“oolschay”，“you” 变为“ouyay”，“my” 变为“ymay ”，“ssssh” 变为“sssshay”。  \n",
    "\n",
    "(5). 如果英文单词中有大写字母，必须所有字母均转换为小写。   \n",
    "输入格式:  \n",
    "一系列单词，单词之间使用空格分隔。  \n",
    "\n",
    "输出格式：  \n",
    "按照以上规则转化每个单词，单词之间使用空格分隔。  \n",
    "\n",
    "输入样例：  \n",
    "Welcome to the Python world Are you ready  \n",
    "\n",
    "输出样例：  \n",
    "elcomeway otay ethay ythonpay orldway arehay ouyay eadyray  "
   ]
  },
  {
   "cell_type": "code",
   "execution_count": 1,
   "metadata": {},
   "outputs": [
    {
     "name": "stdout",
     "output_type": "stream",
     "text": [
      "Welcome to the Python world Are you ready\n",
      "elcomeway otay ethay ythonpay orldway arehay ouyay eadyray "
     ]
    }
   ],
   "source": [
    "def PigLatin():\n",
    "    s = input();\n",
    "    list =  s.lower().split(\" \")\n",
    "    for i in range(len(list)):\n",
    "        if ((list[i][:1] in \"aeiou\")): \n",
    "            list[i] = list[i]+\"hay\"\n",
    "        elif(list[i][:2]==\"qu\"):\n",
    "            list[i]=list[i][2:]+\"quay\"\n",
    "        else:\n",
    "            num =getIndex(list[i])\n",
    "            list[i] = list[i][num:]+list[i][0:num]+\"ay\"\n",
    "    return list\n",
    " \n",
    "def getIndex(s):\n",
    "    for i in range(len(s)):\n",
    "        if((s[i] in \"aeiou\") or (i!=0 and s[i] ==\"y\")):\n",
    "            return i\n",
    "    return len(s)\n",
    " \n",
    "result = PigLatin()\n",
    "for i in range(len(result)):\n",
    "   print(result[i],end = ' ')"
   ]
  },
  {
   "cell_type": "markdown",
   "metadata": {},
   "source": [
    "题目内容：  \n",
    "依次判断一系列给定的字符串是否为合法的 python 标识符。  \n",
    "输入格式:  \n",
    "一系列字符串，每个字符串占一行。  \n",
    "输出格式：  \n",
    "判断每行字符串是否为合法的 Python 标示符，如果合法则输出 True，否则输出 False。  \n",
    "输入样例：  \n",
    "abc  \n",
    "\\_def  \n",
    "21gh  \n",
    "输出样例：  \n",
    "True  \n",
    "True  \n",
    "False  "
   ]
  },
  {
   "cell_type": "code",
   "execution_count": 2,
   "metadata": {},
   "outputs": [
    {
     "name": "stdout",
     "output_type": "stream",
     "text": [
      "abc\n",
      "def\n",
      "_21cn\n",
      "123gh\n",
      "\n",
      "True\n",
      "True\n",
      "True\n",
      "False\n"
     ]
    }
   ],
   "source": [
    "import re\n",
    " \n",
    "def isIentifier (s):\n",
    "    if re.match('[a-zA-Z_][a-zA-Z0-9_]*', s):\n",
    "        return True\n",
    "    else:\n",
    "        return False\n",
    "\n",
    "params = []\n",
    "while True:\n",
    "    s = input()\n",
    "    if s == '':\n",
    "        break\n",
    "    else:\n",
    "        params.append(s)\n",
    "for s in params:\n",
    "    if isIentifier (s):\n",
    "        print('True')\n",
    "    else:\n",
    "        print('False')"
   ]
  },
  {
   "cell_type": "markdown",
   "metadata": {},
   "source": [
    "题目内容：  \n",
    "依次计算一系列给定字符串的字母值，字母值为字符串中每个字母对应的编号值（A对应1，B对应2，以此类推，不区分大小写字母，非字母字符对应的值为0）的总和。例如，Colin 的字母值为 3 + 15 + 12 + 9 + 14 = 53  \n",
    "\n",
    "输入格式:  \n",
    "一系列字符串，每个字符串占一行。  \n",
    "\n",
    "输出格式：  \n",
    "计算并输出每行字符串的字母值。  \n",
    "\n",
    "输入样例：  \n",
    "Colin  \n",
    "ABC  \n",
    "\n",
    "输出样例：  \n",
    "53  \n",
    "6  "
   ]
  },
  {
   "cell_type": "code",
   "execution_count": 3,
   "metadata": {},
   "outputs": [
    {
     "name": "stdout",
     "output_type": "stream",
     "text": [
      "Colin\n",
      "ABC\n",
      "\n",
      "53\n",
      "6\n"
     ]
    }
   ],
   "source": [
    "def getStrValue (letter):\n",
    "    alph = \"abcdefghijklmnopqrstuvwxyz\" \n",
    "    letter = letter.lower() \n",
    "    return alph.find(letter) + 1  \n",
    "\n",
    "params = []  \n",
    "while True:  \n",
    "    s = input()  \n",
    "    if s == '':  \n",
    "        break  \n",
    "    else:  \n",
    "        params.append(s)  \n",
    "\n",
    "for word in params:  \n",
    "    sum = 0  \n",
    "    for letter in word:  \n",
    "        sum += getStrValue(letter)  \n",
    "    print(sum)  "
   ]
  },
  {
   "cell_type": "code",
   "execution_count": null,
   "metadata": {
    "collapsed": true
   },
   "outputs": [],
   "source": []
  }
 ],
 "metadata": {
  "hide_input": false,
  "kernelspec": {
   "display_name": "Python 3",
   "language": "python",
   "name": "python3"
  },
  "language_info": {
   "codemirror_mode": {
    "name": "ipython",
    "version": 3
   },
   "file_extension": ".py",
   "mimetype": "text/x-python",
   "name": "python",
   "nbconvert_exporter": "python",
   "pygments_lexer": "ipython3",
   "version": "3.6.1"
  },
  "toc": {
   "colors": {
    "hover_highlight": "#DAA520",
    "navigate_num": "#000000",
    "navigate_text": "#333333",
    "running_highlight": "#FF0000",
    "selected_highlight": "#FFD700",
    "sidebar_border": "#EEEEEE",
    "wrapper_background": "#FFFFFF"
   },
   "moveMenuLeft": true,
   "nav_menu": {
    "height": "30px",
    "width": "252px"
   },
   "navigate_menu": true,
   "number_sections": true,
   "sideBar": true,
   "threshold": 4,
   "toc_cell": false,
   "toc_section_display": "block",
   "toc_window_display": false,
   "widenNotebook": false
  }
 },
 "nbformat": 4,
 "nbformat_minor": 1
}
