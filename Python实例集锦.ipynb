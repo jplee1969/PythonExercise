{
 "cells": [
  {
   "cell_type": "markdown",
   "metadata": {},
   "source": [
    "# Python实例集锦"
   ]
  },
  {
   "cell_type": "markdown",
   "metadata": {
    "solution2": "hidden",
    "solution2_first": true
   },
   "source": [
    "## Python实例之一\n",
    "有四个数字：1、2、3、4，能组成多少个互不相同且无重复数字的三位数？各是多少？"
   ]
  },
  {
   "cell_type": "code",
   "execution_count": 5,
   "metadata": {
    "solution2": "hidden"
   },
   "outputs": [
    {
     "name": "stdout",
     "output_type": "stream",
     "text": [
      "数量：24\n",
      "[[1, 2, 3], [1, 2, 4], [1, 3, 2], [1, 3, 4], [1, 4, 2], [1, 4, 3], [2, 1, 3], [2, 1, 4], [2, 3, 1], [2, 3, 4], [2, 4, 1], [2, 4, 3], [3, 1, 2], [3, 1, 4], [3, 2, 1], [3, 2, 4], [3, 4, 1], [3, 4, 2], [4, 1, 2], [4, 1, 3], [4, 2, 1], [4, 2, 3], [4, 3, 1], [4, 3, 2]]\n"
     ]
    }
   ],
   "source": [
    "result=[]\n",
    "for i in range(1,5):\n",
    "    for j in range(1,5):\n",
    "        for k in range(1,5):\n",
    "            if( i != k ) and (i != j) and (j != k):\n",
    "                result.append([i,j,k])\n",
    "print(\"数量：{}\".format(len(result)))\n",
    "print(result)"
   ]
  },
  {
   "cell_type": "code",
   "execution_count": 7,
   "metadata": {
    "solution2": "hidden"
   },
   "outputs": [
    {
     "name": "stdout",
     "output_type": "stream",
     "text": [
      "数量：24\n",
      "[(1, 2, 3), (1, 2, 4), (1, 3, 2), (1, 3, 4), (1, 4, 2), (1, 4, 3), (2, 1, 3), (2, 1, 4), (2, 3, 1), (2, 3, 4), (2, 4, 1), (2, 4, 3), (3, 1, 2), (3, 1, 4), (3, 2, 1), (3, 2, 4), (3, 4, 1), (3, 4, 2), (4, 1, 2), (4, 1, 3), (4, 2, 1), (4, 2, 3), (4, 3, 1), (4, 3, 2)]\n"
     ]
    }
   ],
   "source": [
    "result=[]\n",
    "from itertools import permutations\n",
    "for i in permutations([1, 2, 3, 4], 3):\n",
    "    result.append(i)\n",
    "print(\"数量：{}\".format(len(result)))\n",
    "print(result)"
   ]
  },
  {
   "cell_type": "markdown",
   "metadata": {
    "solution2": "hidden",
    "solution2_first": true
   },
   "source": [
    "## Python实例之二\n",
    "企业发放的奖金根据利润提成。利润(I)低于或等于10万元时，奖金可提10%；利润高于10万元，低于20万元时，低于10万元的部分按10%提成，高于10万元的部分，可提成7.5%；20万到40万之间时，高于20万元的部分，可提成5%；40万到60万之间时高于40万元的部分，可提成3%；60万到100万之间时，高于60万元的部分，可提成1.5%，高于100万元时，超过100万元的部分按1%提成，从键盘输入当月利润I，求应发放奖金总数？"
   ]
  },
  {
   "cell_type": "code",
   "execution_count": 12,
   "metadata": {
    "solution2": "hidden"
   },
   "outputs": [
    {
     "name": "stdout",
     "output_type": "stream",
     "text": [
      "净利润：120000\n",
      "奖金: 11500.0 元\n"
     ]
    }
   ],
   "source": [
    "x = int(input(\"净利润：\"))\n",
    "if x<=100000:\n",
    "    bonus=x*0.1\n",
    "    print(\"奖金:\",bonus,\"元\")\n",
    "elif 100001<x<=200000:\n",
    "    bonus=10000+(x-100000)*0.075\n",
    "    print(\"奖金:\",bonus,\"元\")\n",
    "elif 200001<x<=400000:\n",
    "    bonus=10000+7500+(x-200000)*0.05\n",
    "    print(\"奖金:\",bonus,\"元\")\n",
    "elif 400001<x<=600000:\n",
    "    bonus=10000+7500+10000+(x-400000)*0.03\n",
    "    print(\"奖金:\",bonus,\"元\")\n",
    "elif 600001<x<=1000000:\n",
    "    bonus=10000+7500+10000+6000+(x-600000)*0.015\n",
    "    print(\"奖金:\",bonus,\"元\")\n",
    "elif 600001<x<=1000000:\n",
    "    bonus=10000+7500+10000+6000+6000+(x-600000)*0.01\n",
    "    print(\"奖金:\",bonus,\"元\")"
   ]
  },
  {
   "cell_type": "code",
   "execution_count": 9,
   "metadata": {
    "solution2": "hidden"
   },
   "outputs": [
    {
     "name": "stdout",
     "output_type": "stream",
     "text": [
      "净利润:120000\n",
      "11500.0\n"
     ]
    }
   ],
   "source": [
    "d = int(input('净利润:'))\n",
    "arr = [1000000,600000,400000,200000,100000,0]\n",
    "rat = [0.01,0.015,0.03,0.05,0.075,0.1]\n",
    "r = 0\n",
    "for idx in range(0,6):\n",
    "    if d>arr[idx]:\n",
    "        r+=(d-arr[idx])*rat[idx]\n",
    "        #print (d-arr[idx])*rat[idx]\n",
    "        d=arr[idx]\n",
    "print(r)"
   ]
  },
  {
   "cell_type": "code",
   "execution_count": 10,
   "metadata": {
    "solution2": "hidden"
   },
   "outputs": [
    {
     "name": "stdout",
     "output_type": "stream",
     "text": [
      "净利润:120000\n",
      "11500.0\n"
     ]
    }
   ],
   "source": [
    "i = int(input('净利润:'))\n",
    "arr = {1000000:0.01,600000:0.015,400000:0.03,200000:0.05,100000:0.075,0:0.1}\n",
    "r = 0\n",
    "for idx in arr.keys():\n",
    "    if i > idx:\n",
    "        r += (i - idx) * arr[idx]\n",
    "        i = idx\n",
    "print(r)"
   ]
  },
  {
   "cell_type": "markdown",
   "metadata": {
    "collapsed": true,
    "solution2": "hidden",
    "solution2_first": true
   },
   "source": [
    "## Python实例之三\n",
    "一个整数，它加上100后是一个完全平方数，再加上168又是一个完全平方数，请问该数是多少？  \n",
    "程序分析：  \n",
    "假设该数为 x。  \n",
    "1、则：x + 100 = n2, x + 100 + 168 = m2  \n",
    "2、计算等式：m2 - n2 = (m + n)(m - n) = 168  "
   ]
  },
  {
   "cell_type": "code",
   "execution_count": 13,
   "metadata": {
    "solution2": "hidden"
   },
   "outputs": [
    {
     "name": "stdout",
     "output_type": "stream",
     "text": [
      "符合条件的整数有: -99\n",
      "符合条件的整数有: 21\n",
      "符合条件的整数有: 261\n",
      "符合条件的整数有: 1581\n"
     ]
    }
   ],
   "source": [
    "for m in range(168):\n",
    "    for n in range(m):\n",
    "        if (m+n)*(m-n)==168:\n",
    "            x=n**2-100\n",
    "            print(\"符合条件的整数有:\",x)"
   ]
  },
  {
   "cell_type": "markdown",
   "metadata": {
    "solution2": "hidden",
    "solution2_first": true
   },
   "source": [
    "## Python实例之四\n",
    "输入某年某月某日，判断这一天是这一年的第几天？  \n",
    "程序分析：以3月5日为例，应该先把前两个月的加起来，然后再加上5天即本年的第几天，特殊情况，闰年且输入月份大于2时需考虑多加一天。"
   ]
  },
  {
   "cell_type": "code",
   "execution_count": 14,
   "metadata": {
    "solution2": "hidden"
   },
   "outputs": [
    {
     "name": "stdout",
     "output_type": "stream",
     "text": [
      "输入年月日(yyyy-mm-dd):2017-06-22\n",
      "这一天是一年中的第173天\n"
     ]
    }
   ],
   "source": [
    "date = input(\"输入年月日(yyyy-mm-dd):\")\n",
    "y,m,d = (int(i) for i in date.split('-'))\n",
    "sum=0\n",
    "special = (1,3,5,7,8,10)\n",
    "for i in range(1,int(m)):\n",
    "    if i == 2:\n",
    "        if y%400==0 or (y%100!=0 and y%4==0):\n",
    "            sum+=29\n",
    "        else:\n",
    "            sum+=28\n",
    "    elif(i in special):\n",
    "        sum+=31\n",
    "    else:\n",
    "        sum+=30\n",
    "sum+=d\n",
    "print(\"这一天是一年中的第%d天\"%sum)"
   ]
  },
  {
   "cell_type": "markdown",
   "metadata": {
    "solution2": "hidden",
    "solution2_first": true
   },
   "source": [
    "## Python实例之五\n",
    "输入三个整数x,y,z，请把这三个数由小到大输出。"
   ]
  },
  {
   "cell_type": "code",
   "execution_count": 15,
   "metadata": {
    "solution2": "hidden"
   },
   "outputs": [
    {
     "name": "stdout",
     "output_type": "stream",
     "text": [
      "请输入n个整数以逗号分隔：3,2,5,8,5,3,2\n",
      "['2', '2', '3', '3', '5', '5', '8']\n"
     ]
    }
   ],
   "source": [
    "a = input(\"请输入n个整数以逗号分隔：\").split(',')\n",
    "\n",
    "n=len(a)\n",
    "\n",
    "for i in range(0,n):\n",
    "  for j in range(i,n) :\n",
    "     if (a[i] >= a[j] ):\n",
    "         tmp =a[i]\n",
    "         a[i]=a[j]\n",
    "         a[j]=tmp\n",
    "\n",
    "print(a)"
   ]
  },
  {
   "cell_type": "code",
   "execution_count": 16,
   "metadata": {
    "solution2": "hidden"
   },
   "outputs": [
    {
     "name": "stdout",
     "output_type": "stream",
     "text": [
      "please input num:3\n",
      "please input num:9\n",
      "please input num:2\n",
      "please input num:8\n",
      "please input num:20\n",
      "please input num:12\n",
      "please input num:\n",
      "[3, 9, 2, 8, 20, 12]\n",
      "[3, 9, 2, 8, 20, 12]\n",
      "[3, 2, 9, 8, 20, 12]\n",
      "[3, 2, 8, 9, 20, 12]\n",
      "[3, 2, 8, 9, 20, 12]\n",
      "[3, 2, 8, 9, 12, 20]\n",
      "[2, 3, 8, 9, 12, 20]\n",
      "[2, 3, 8, 9, 12, 20]\n",
      "[2, 3, 8, 9, 12, 20]\n",
      "[2, 3, 8, 9, 12, 20]\n",
      "[2, 3, 8, 9, 12, 20]\n",
      "[2, 3, 8, 9, 12, 20]\n",
      "[2, 3, 8, 9, 12, 20]\n",
      "[2, 3, 8, 9, 12, 20]\n",
      "[2, 3, 8, 9, 12, 20]\n",
      "[2, 3, 8, 9, 12, 20]\n",
      "2\n",
      "3\n",
      "8\n",
      "9\n",
      "12\n",
      "20\n"
     ]
    }
   ],
   "source": [
    "# 利用冒泡排序方法\n",
    "def Sort(list):\n",
    "    n = len(list)\n",
    "    for i in range(1, n):\n",
    "        # 一次次的将最大的学出来\n",
    "        for j in range(1, n - i + 1):\n",
    "            if list[j - 1] > list[j]:\n",
    "                list[j - 1], list[j] = list[j], list[j - 1]\n",
    "            # 打印排序过程\n",
    "            print(list)\n",
    "    for i in range(0, n):\n",
    "        print(list[i])\n",
    "\n",
    "# 读入数据\n",
    "def inputData():\n",
    "    list_first = []\n",
    "    while True:\n",
    "        a = input(\"please input num:\".strip())\n",
    "        if len(a) == 0:\n",
    "            return list_first\n",
    "        else:\n",
    "            list_first.append(int(a))\n",
    "\n",
    "if __name__ == '__main__':\n",
    "    lt = inputData()\n",
    "    print(lt)\n",
    "    Sort(lt)"
   ]
  },
  {
   "cell_type": "markdown",
   "metadata": {
    "solution2": "hidden",
    "solution2_first": true
   },
   "source": [
    "## Python实例之六\n",
    "斐波那契数列。  \n",
    "程序分析：斐波那契数列（Fibonacci sequence），又称黄金分割数列，指的是这样一个数列：1、1、2、3、5、8、13、21、34、……。\n",
    "在数学上，费波那契数列是以递归的方法来定义："
   ]
  },
  {
   "cell_type": "code",
   "execution_count": 17,
   "metadata": {
    "solution2": "hidden"
   },
   "outputs": [
    {
     "name": "stdout",
     "output_type": "stream",
     "text": [
      "[1, 1, 2, 3, 5, 8, 13, 21, 34, 55]\n"
     ]
    }
   ],
   "source": [
    "def fib(n):\n",
    "    if n == 1:\n",
    "        return [1]\n",
    "    if n == 2:\n",
    "        return [1, 1]\n",
    "    fibs = [1, 1]\n",
    "    for i in range(2, n):\n",
    "        fibs.append(fibs[-1] + fibs[-2])\n",
    "    return fibs\n",
    " \n",
    "# 输出前 10 个斐波那契数列\n",
    "print(fib(10))"
   ]
  },
  {
   "cell_type": "code",
   "execution_count": null,
   "metadata": {
    "collapsed": true
   },
   "outputs": [],
   "source": []
  }
 ],
 "metadata": {
  "kernelspec": {
   "display_name": "Python 3",
   "language": "python",
   "name": "python3"
  },
  "language_info": {
   "codemirror_mode": {
    "name": "ipython",
    "version": 3
   },
   "file_extension": ".py",
   "mimetype": "text/x-python",
   "name": "python",
   "nbconvert_exporter": "python",
   "pygments_lexer": "ipython3",
   "version": "3.6.1"
  }
 },
 "nbformat": 4,
 "nbformat_minor": 2
}
